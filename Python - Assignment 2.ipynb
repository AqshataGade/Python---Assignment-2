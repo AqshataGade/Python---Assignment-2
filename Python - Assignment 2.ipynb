{
 "cells": [
  {
   "cell_type": "code",
   "execution_count": 2,
   "metadata": {},
   "outputs": [
    {
     "name": "stdout",
     "output_type": "stream",
     "text": [
      "To: Aqshata,\n",
      "Address: 204, GitHub Apartment \n",
      "Near Jupyter Notebook \n",
      "Python Road (w)\n"
     ]
    }
   ],
   "source": [
    "## Exercise 1: Mailing Address\n",
    "## Create a program that displays your name and complete mailing address formattedin the manner that you would usually see it on the outside of an envelope. \n",
    "## Your program does not need to read any input from the user.\n",
    "\n",
    "name = \"Aqshata\"\n",
    "address = \"204, GitHub Apartment \\nNear Jupyter Notebook \\nPython Road (w)\"\n",
    "print(\"To: {},\\nAddress: {}\".format(name,address))\n"
   ]
  },
  {
   "cell_type": "code",
   "execution_count": 2,
   "metadata": {},
   "outputs": [
    {
     "name": "stdout",
     "output_type": "stream",
     "text": [
      "Please Enter your name: Aqshata\n",
      "Hi  Aqshata , Thank you for joining the session.\n"
     ]
    }
   ],
   "source": [
    "## Exercise 2: Hello. \n",
    "#### Write a program that asks the user to enter his or her name. \n",
    "#### The program should respond with a message that says hello to the user, using his or her name.\n",
    "\n",
    "user_name = input(\"Please Enter your name: \")\n",
    "print(\"Hi \",user_name,\", Thank you for joining the session.\")"
   ]
  },
  {
   "cell_type": "code",
   "execution_count": 10,
   "metadata": {},
   "outputs": [
    {
     "name": "stdout",
     "output_type": "stream",
     "text": [
      "Please enter the width of room in feet: 220\n",
      "Please enter the height of room in feet: 150\n",
      "The area of room is 33000.0 square feet which has been calculated using the formula area = width * length\n"
     ]
    }
   ],
   "source": [
    "## Exercise 3: Area of a Room\n",
    "## Write a program that asks the user to enter the width and length of a room. Once the values have been read, your program should compute and display the area of the room. The length and the width will be entered as floating-pointnumbers. \n",
    "## Include units in your prompt and output message; either feet or meters, depending on which unit you are more comfortable working with.\n",
    "width = float(input(\"Please enter the width of room in feet: \"))\n",
    "length = float(input(\"Please enter the height of room in feet: \"))\n",
    "area = width*length\n",
    "print(\"The area of room is\", area,\"square feet which has been calculated using the formula area = width * length\")"
   ]
  },
  {
   "cell_type": "code",
   "execution_count": 11,
   "metadata": {},
   "outputs": [
    {
     "name": "stdout",
     "output_type": "stream",
     "text": [
      "Please enter the width of room in feet: 240\n",
      "Please enter the height of room in feet: 120\n",
      "The area of room is 0.66 acre which has been calculated using the formula area = (width * length)/43560\n"
     ]
    }
   ],
   "source": [
    "## Exercise 4: Area of a Field\n",
    "## Create a program that reads the length and width of a farmer’s field from the user in feet. \n",
    "## Display the area of the field in acres. Hint: There are 43,560 square feet in an acre.\n",
    "\n",
    "width = float(input(\"Please enter the width of room in feet: \"))\n",
    "length = float(input(\"Please enter the height of room in feet: \"))\n",
    "area = width*length\n",
    "area_in_acre = round((area/43560),2)\n",
    "print(\"The area of room is\", area_in_acre,\"acre which has been calculated using the formula area = (width * length)/43560\")"
   ]
  },
  {
   "cell_type": "code",
   "execution_count": 3,
   "metadata": {},
   "outputs": [
    {
     "name": "stdout",
     "output_type": "stream",
     "text": [
      "Please Enter the number of bottle which can contain maximum of a litre: 120\n",
      "Please Enter the number of bottle which can contain more than one litre of water: 56\n",
      "The refund generated is: $ 26.0\n"
     ]
    }
   ],
   "source": [
    "## Exercise 5: Bottle Deposits\n",
    "## In many jurisdictions a small deposit is added to drink containers to encourage people to recycle them. \n",
    "## In one particular jurisdiction, drink containers holding one litreor less have a $0.10 deposit, and drink containers holding more than one litrehave a $0.25 deposit. \n",
    "## Write a program that reads the number of containers of each size from the user.\n",
    "## Your program should continue by computing and displaying the refund that will be received for returning those containers. \n",
    "## Format the output so that it includes a dollar sign and always displays exactly two decimal places.\n",
    "\n",
    "one_or_less = int(input(\"Please Enter the number of bottle which can contain maximum of a litre: \"))\n",
    "more_than_one = int(input(\"Please Enter the number of bottle which can contain more than one litre of water: \"))\n",
    "refund = round(((one_or_less * 0.10) + (more_than_one * 0.25)),2)\n",
    "print(\"The refund generated is: $\",refund)"
   ]
  },
  {
   "cell_type": "code",
   "execution_count": 4,
   "metadata": {},
   "outputs": [
    {
     "name": "stdout",
     "output_type": "stream",
     "text": [
      "Please enter the cost of meal you have ordered: 150\n",
      "Cost of meal: 150.0 \n",
      "Tip Amount: 27.0 \n",
      "Tax Amount: 15.0 \n",
      "Total Bill Amount: 192.0\n"
     ]
    }
   ],
   "source": [
    "## Exercise 6: Tax and Tip\n",
    "## The program that you create for this exercisevwill begin by reading the cost of a meal ordered at a restaurant from the user.\n",
    "## Then your program will compute the tax and tip for the meal. Use your local tax rate when computing the amount of tax owing. \n",
    "## Compute the tip as 18 percent of the meal amount (without the tax). \n",
    "## The output from your program should include the tax amount, the tip amount, and the grand total for the meal including both the tax and the tip. \n",
    "## Format the output so that allthe values are displayed using two decimal places.\n",
    "\n",
    "cost_of_meal = round(float(input(\"Please enter the cost of meal you have ordered: \")),2)\n",
    "tip_rate = 18\n",
    "tax_rate = 10\n",
    "tip = round((cost_of_meal * 0.18),2)\n",
    "Local_tax = round((cost_of_meal * 0.10),2)\n",
    "total_bill = round((cost_of_meal + tip + Local_tax),2)\n",
    "print(\"Cost of meal: {} \\nTip Amount: {} \\nTax Amount: {} \\nTotal Bill Amount: {}\".format(cost_of_meal,tip,Local_tax,total_bill))"
   ]
  },
  {
   "cell_type": "code",
   "execution_count": 8,
   "metadata": {},
   "outputs": [
    {
     "name": "stdout",
     "output_type": "stream",
     "text": [
      "Please enter the positive integer number: 12\n",
      "The sum of first 12 is:  78.0\n"
     ]
    }
   ],
   "source": [
    "## Exercise 7: Sum of the First n Positive Integers\n",
    "## Write a program that reads a positive integer, n, from the user and then displays the sum of allthe integers from 1 to n. \n",
    "## The sum of the first n positive integers can be computed using the formula: sum = (n)(n + 1)/2\n",
    "\n",
    "positive_no = int(input(\"Please enter the positive integer number: \"))\n",
    "sum_of_first_n = (positive_no) * (positive_no + 1)/2\n",
    "print(\"The sum of first\", positive_no, \"is: \",sum_of_first_n)"
   ]
  },
  {
   "cell_type": "code",
   "execution_count": 10,
   "metadata": {},
   "outputs": [
    {
     "name": "stdout",
     "output_type": "stream",
     "text": [
      "Please enter the number of orders for widgets: 120\n",
      "Please enter the number of orders for gizmo: 240\n",
      "Total weight is:  35880 grams\n"
     ]
    }
   ],
   "source": [
    "## Exercise 8:Widgets and Gizmos\n",
    "## An online retailer sells two products: widgets and gizmos. \n",
    "## Each widget weighs 75 grams. \n",
    "## Each gizmo weighs 112 grams. \n",
    "## Write a program that reads the number of widgets and the number of gizmos in an order from the user. \n",
    "## Then your program should compute and display the total weight of the order.\n",
    "\n",
    "widget = int(input(\"Please enter the number of orders for widgets: \"))\n",
    "gizmo = int(input(\"Please enter the number of orders for gizmo: \"))\n",
    "wt_widget = 75\n",
    "wt_gizmo = 112\n",
    "total_wt = (widget * wt_widget) + (gizmo * wt_gizmo)\n",
    "print(\"Total weight is: \", total_wt, \"grams\")"
   ]
  },
  {
   "cell_type": "code",
   "execution_count": 13,
   "metadata": {},
   "outputs": [
    {
     "name": "stdout",
     "output_type": "stream",
     "text": [
      "Please enter the deposite amount: 27000\n",
      "The amount in bank after end of first year is: 28080.0 \n",
      "after second year: 29203.2 \n",
      "after third year: 30371.33\n"
     ]
    }
   ],
   "source": [
    "## Exercise 9:Compound Interest \n",
    "## Pretend that you have just opened a new savings account that earns 4 percent interest per year. \n",
    "## The interest that you earn is paid at the end of the year and is added to the balance of the savings account. \n",
    "## Write a program that begins by reading the amount of money deposited into the account from the user. \n",
    "## Then your program should compute and display the amount in the savings account after 1, 2, and 3 years. \n",
    "## Display each amount so that it is rounded to 2 decimal places.\n",
    "\n",
    "base_amount = float(input(\"Please enter the deposite amount: \"))\n",
    "interest_rate = 0.04\n",
    "amount_1year = round((base_amount + (base_amount * interest_rate)),2)\n",
    "amount_2year = round((amount_1year + (amount_1year * interest_rate)),2)\n",
    "amount_3year = round((amount_2year + (amount_2year * interest_rate)),2)\n",
    "print(\"The amount in bank after end of first year is: {} \\nafter second year: {} \\nafter third year: {}\".format(amount_1year,amount_2year,amount_3year))"
   ]
  },
  {
   "cell_type": "code",
   "execution_count": 16,
   "metadata": {},
   "outputs": [
    {
     "name": "stdout",
     "output_type": "stream",
     "text": [
      "Enter the value of a: 24\n",
      "Enter the value of b: 5\n",
      "The sum of a and b is: 29\n",
      "The difference when b is subtracted from a is:  19\n",
      "The product of a and b is:  120\n",
      "The quotient when a is dic=vided by b is:  4.8\n",
      "The remainder when a is divided by b is:  4\n",
      "Log of a is:  1.380211241711606\n"
     ]
    }
   ],
   "source": [
    "## Exercise 10: Arithmetic\n",
    "## Create a program that reads two integers, a and b, from the user. \n",
    "## Your program should compute and display: \n",
    "## • The sum of a and b \n",
    "## • The difference when b is subtracted from a \n",
    "## • The product of a and b 6 1 Introduction to Programming Exercises \n",
    "## • The quotient when a is divided by b • The remainder when a is dividedby b • The result of log10 a • The result of abHint: \n",
    "## You will probably find the log10 function in the math module helpful for computing the second last item in the list.\n",
    "\n",
    "import math\n",
    "a = int(input(\"Enter the value of a: \"))\n",
    "b = int(input(\"Enter the value of b: \"))\n",
    "print(\"The sum of a and b is:\", a + b)\n",
    "print(\"The difference when b is subtracted from a is: \", a - b)\n",
    "print(\"The product of a and b is: \", a * b)\n",
    "print(\"The quotient when a is dic=vided by b is: \", a / b)\n",
    "print(\"The remainder when a is divided by b is: \", a % b)\n",
    "print(\"Log of a is: \", math.log10(a))"
   ]
  },
  {
   "cell_type": "code",
   "execution_count": null,
   "metadata": {},
   "outputs": [],
   "source": []
  }
 ],
 "metadata": {
  "kernelspec": {
   "display_name": "Python 3",
   "language": "python",
   "name": "python3"
  },
  "language_info": {
   "codemirror_mode": {
    "name": "ipython",
    "version": 3
   },
   "file_extension": ".py",
   "mimetype": "text/x-python",
   "name": "python",
   "nbconvert_exporter": "python",
   "pygments_lexer": "ipython3",
   "version": "3.7.6"
  }
 },
 "nbformat": 4,
 "nbformat_minor": 4
}
